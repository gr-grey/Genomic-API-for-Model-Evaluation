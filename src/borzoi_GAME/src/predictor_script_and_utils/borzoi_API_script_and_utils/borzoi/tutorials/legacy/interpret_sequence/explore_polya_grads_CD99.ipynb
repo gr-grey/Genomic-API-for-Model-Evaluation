{
 "cells": [
  {
   "cell_type": "code",
   "execution_count": 1,
   "id": "7030e9ad",
   "metadata": {},
   "outputs": [],
   "source": [
    "import sys\n",
    "import os\n",
    "import numpy as np\n",
    "import pandas as pd\n",
    "\n",
    "import h5py\n",
    "\n",
    "import matplotlib.pyplot as plt\n",
    "from scipy.ndimage import gaussian_filter1d\n",
    "\n",
    "from vis_helpers import *\n"
   ]
  },
  {
   "cell_type": "code",
   "execution_count": 2,
   "id": "534495a0",
   "metadata": {},
   "outputs": [
    {
     "name": "stdout",
     "output_type": "stream",
     "text": [
      "scores.shape = (1, 524288, 4)\n"
     ]
    }
   ],
   "source": [
    "#Load scores\n",
    "\n",
    "score_file = h5py.File('../../../examples/saved_models/gtex_CD99/scores_f3c0.h5', 'r')\n",
    "\n",
    "scores = score_file['grads'][()][:, :, :, 0]\n",
    "seqs = score_file['seqs'][()][:]\n",
    "genes = score_file['gene'][()][:]\n",
    "genes = np.array([genes[j].decode() for j in range(genes.shape[0])])\n",
    "strands = score_file['strand'][()][:]\n",
    "strands = np.array([strands[j].decode() for j in range(strands.shape[0])])\n",
    "\n",
    "#Input-gate the scores\n",
    "scores = scores * seqs\n",
    "\n",
    "print(\"scores.shape = \" + str(scores.shape))\n"
   ]
  },
  {
   "cell_type": "code",
   "execution_count": 3,
   "id": "4dcb8667",
   "metadata": {},
   "outputs": [
    {
     "name": "stdout",
     "output_type": "stream",
     "text": [
      "-- 0 (+) --\n",
      " - gene_id = 'ENSG00000002586.20\n"
     ]
    },
    {
     "data": {
      "image/png": "[encoded data removed]",
      "text/plain": [
       "<Figure size 800x100 with 1 Axes>"
      ]
     },
     "metadata": {},
     "output_type": "display_data"
    },
    {
     "data": {
      "image/png": "[encoded data removed]",
      "text/plain": [
       "<Figure size 800x100 with 1 Axes>"
      ]
     },
     "metadata": {},
     "output_type": "display_data"
    }
   ],
   "source": [
    "#Visualize polya-centric gradient for gene(s)\n",
    "\n",
    "#Find position of max saliency\n",
    "max_poses = np.argmax(np.sum(scores, axis=-1), axis=-1)\n",
    "\n",
    "#Loop over genes\n",
    "for example_ix in range(scores.shape[0]) :\n",
    "    \n",
    "    #Get max pos\n",
    "    max_pos = max_poses[example_ix]\n",
    "    \n",
    "    #Only visualize genes that are not extremely long\n",
    "    if max_pos >= 150000 and max_pos < seqs.shape[1] - 150000 :\n",
    "        \n",
    "        print(\"-- \" + str(example_ix) + \" (\" + str(strands[example_ix]) + \") --\")\n",
    "        print(\" - gene_id = '\" + str(genes[example_ix]))\n",
    "\n",
    "        #Plot scores\n",
    "        f = plt.figure(figsize=(8, 1))\n",
    "\n",
    "        #Annotate 4kb window\n",
    "        plot_start = max_pos - 2000\n",
    "        plot_end = max_pos + 6 + 2000\n",
    "\n",
    "        l1 = plt.plot(np.arange(seqs.shape[1]), np.sum(scores[example_ix, ...], axis=-1), linewidth=1, linestyle='-', color='red', label='Gradient')\n",
    "\n",
    "        plt.axvline(x=plot_start, color='black', linestyle='--')\n",
    "        plt.axvline(x=plot_end, color='black', linestyle='--')\n",
    "\n",
    "        plt.xlim(0, seqs.shape[1])\n",
    "        \n",
    "        plt.legend(handles=[l1[0]], fontsize=8)\n",
    "        \n",
    "        plt.yticks([], [])\n",
    "        plt.xticks([], [])\n",
    "\n",
    "        plt.tight_layout()\n",
    "\n",
    "        plt.show()\n",
    "        \n",
    "        #Visualize contribution scores\n",
    "        plot_start = max_pos - 100\n",
    "        plot_end = max_pos + 6 + 100\n",
    "        \n",
    "        #Rev-comp scores if gene is on minus strand\n",
    "        if strands[example_ix] == '-' :\n",
    "            plot_end = seqs.shape[1] - (max_pos - 100)\n",
    "            plot_start = seqs.shape[1] - (max_pos + 6 + 100)\n",
    "        \n",
    "        #Plot sequence logo\n",
    "        visualize_input_gradient_pair(\n",
    "            scores[example_ix, :, :] if strands[example_ix] == '+' else scores[example_ix, ::-1, ::-1],\n",
    "            np.zeros(scores[example_ix, ...].shape),\n",
    "            plot_start=plot_start,\n",
    "            plot_end=plot_end,\n",
    "            save_figs=False,\n",
    "        )\n"
   ]
  },
  {
   "cell_type": "code",
   "execution_count": null,
   "id": "3d7aefe0",
   "metadata": {},
   "outputs": [],
   "source": []
  }
 ],
 "metadata": {
  "kernelspec": {
   "display_name": "Python 3 (ipykernel)",
   "language": "python",
   "name": "python3"
  },
  "language_info": {
   "codemirror_mode": {
    "name": "ipython",
    "version": 3
   },
   "file_extension": ".py",
   "mimetype": "text/x-python",
   "name": "python",
   "nbconvert_exporter": "python",
   "pygments_lexer": "ipython3",
   "version": "3.8.15"
  }
 },
 "nbformat": 4,
 "nbformat_minor": 5
}
