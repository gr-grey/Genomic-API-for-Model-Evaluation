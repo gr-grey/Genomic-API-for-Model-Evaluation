{
 "cells": [
  {
   "cell_type": "code",
   "execution_count": 1,
   "id": "f5d0f9fb",
   "metadata": {},
   "outputs": [],
   "source": [
    "import os\n",
    "import sys\n",
    "import h5py\n"
   ]
  },
  {
   "cell_type": "code",
   "execution_count": null,
   "id": "7a94cbf8",
   "metadata": {
    "scrolled": true
   },
   "outputs": [],
   "source": [
    "#Calculate gene-specific variant effect scores\n",
    "\n",
    "!./score_expr_sed.sh\n"
   ]
  },
  {
   "cell_type": "code",
   "execution_count": 2,
   "id": "1047ff0f",
   "metadata": {},
   "outputs": [
    {
     "name": "stdout",
     "output_type": "stream",
     "text": [
      "score: 'logSED', snp: 'chr1_46309111_A_G_b38', gene: 'ENSG00000237090.1', track: 'RNA:adipose_tissue' => -0.2551\n"
     ]
    }
   ],
   "source": [
    "#Print an example variant effect prediction for a SNP-gene pair (gene-specific expression)\n",
    "\n",
    "sed_h5 = h5py.File('snp_sed/f3c0/sed.h5', 'r')\n",
    "\n",
    "row_ix = 63\n",
    "target_ix = 0\n",
    "\n",
    "print(\"score: 'logSED', snp: '\" + str(sed_h5['snp'][sed_h5['si'][row_ix]].decode()) + \"', gene: '\" + str(sed_h5['gene'][sed_h5['si'][row_ix]].decode()) + \"', track: '\" + str(sed_h5['target_labels'][target_ix].decode()) + \"' => \" + str(round(sed_h5['logSED'][row_ix, target_ix], 4)))\n"
   ]
  },
  {
   "cell_type": "code",
   "execution_count": null,
   "id": "f105ecd9",
   "metadata": {
    "scrolled": true
   },
   "outputs": [],
   "source": [
    "#Calculate gene-agnostic variant effect scores\n",
    "\n",
    "!./score_expr_sad.sh\n"
   ]
  },
  {
   "cell_type": "code",
   "execution_count": 3,
   "id": "96e4f7cb",
   "metadata": {},
   "outputs": [
    {
     "name": "stdout",
     "output_type": "stream",
     "text": [
      "score: 'logD2', snp: 'chr1_43120331_C_T_b38', track: 'RNA:adipose_tissue' => 0.1057\n"
     ]
    }
   ],
   "source": [
    "#Print an example variant effect prediction for a SNP (gene-agnostic expression)\n",
    "\n",
    "sad_h5 = h5py.File('snp_sad/f3c0/sad.h5', 'r')\n",
    "\n",
    "snp_ix = 1\n",
    "target_ix = 0\n",
    "\n",
    "print(\"score: 'logD2', snp: '\" + str(sad_h5['snp'][snp_ix].decode()) + \"', track: '\" + str(sad_h5['target_labels'][target_ix].decode()) + \"' => \" + str(round(sad_h5['logD2'][snp_ix, target_ix], 4)))\n"
   ]
  },
  {
   "cell_type": "code",
   "execution_count": null,
   "id": "c56efaef",
   "metadata": {
    "scrolled": true
   },
   "outputs": [],
   "source": [
    "#Calculate splice variant effect scores\n",
    "\n",
    "!./score_splice.sh\n"
   ]
  },
  {
   "cell_type": "code",
   "execution_count": 4,
   "id": "980993fc",
   "metadata": {},
   "outputs": [
    {
     "name": "stdout",
     "output_type": "stream",
     "text": [
      "score: 'nDi', snp: 'chr1_156236330_G_A', gene: 'ENSG00000225905.1', track: 'RNA:foreskin fibroblast male newborn' => 0.0022\n"
     ]
    }
   ],
   "source": [
    "#Print an example variant effect prediction for a SNP-gene pair (splicing)\n",
    "\n",
    "sed_h5 = h5py.File('snp_splice/f3c0/sed.h5', 'r')\n",
    "\n",
    "row_ix = 116\n",
    "target_ix = 755\n",
    "\n",
    "print(\"score: 'nDi', snp: '\" + str(sed_h5['snp'][sed_h5['si'][row_ix]].decode()) + \"', gene: '\" + str(sed_h5['gene'][sed_h5['si'][row_ix]].decode()) + \"', track: '\" + str(sed_h5['target_labels'][target_ix].decode()) + \"' => \" + str(round(sed_h5['nDi'][row_ix, target_ix], 4)))\n"
   ]
  },
  {
   "cell_type": "code",
   "execution_count": null,
   "id": "05cccfb6",
   "metadata": {
    "scrolled": true
   },
   "outputs": [],
   "source": [
    "#Calculate polyadenylation variant effect scores\n",
    "\n",
    "!./score_polya.sh\n"
   ]
  },
  {
   "cell_type": "code",
   "execution_count": 5,
   "id": "43ac562f",
   "metadata": {},
   "outputs": [
    {
     "name": "stdout",
     "output_type": "stream",
     "text": [
      "score: 'logSED', snp: 'chr16_80976052_T_G', gene: 'ENSG00000132879.14', track: 'RNA:HeLa-S3 nuclear fraction' => 0.0628\n"
     ]
    }
   ],
   "source": [
    "#Print an example variant effect prediction for a SNP-gene pair (polyadenylation)\n",
    "\n",
    "sed_h5 = h5py.File('snp_polya/f3c0/sed.h5', 'r')\n",
    "\n",
    "row_ix = 47\n",
    "target_ix = 100\n",
    "\n",
    "print(\"score: 'logSED', snp: '\" + str(sed_h5['snp'][sed_h5['si'][row_ix]].decode()) + \"', gene: '\" + str(sed_h5['gene'][sed_h5['si'][row_ix]].decode()) + \"', track: '\" + str(sed_h5['target_labels'][target_ix].decode()) + \"' => \" + str(round(sed_h5['COVR'][row_ix, target_ix], 4)))\n"
   ]
  },
  {
   "cell_type": "code",
   "execution_count": null,
   "id": "0ba23572",
   "metadata": {},
   "outputs": [],
   "source": []
  }
 ],
 "metadata": {
  "kernelspec": {
   "display_name": "Python 3 (ipykernel)",
   "language": "python",
   "name": "python3"
  },
  "language_info": {
   "codemirror_mode": {
    "name": "ipython",
    "version": 3
   },
   "file_extension": ".py",
   "mimetype": "text/x-python",
   "name": "python",
   "nbconvert_exporter": "python",
   "pygments_lexer": "ipython3",
   "version": "3.8.15"
  }
 },
 "nbformat": 4,
 "nbformat_minor": 5
}
